{
 "cells": [
  {
   "cell_type": "code",
   "execution_count": 1,
   "id": "bcb892f8",
   "metadata": {},
   "outputs": [],
   "source": [
    "import pandas as pd"
   ]
  },
  {
   "cell_type": "code",
   "execution_count": 2,
   "id": "1162019b",
   "metadata": {},
   "outputs": [],
   "source": [
    "df = pd.read_csv('Social_Network_Ads.csv')"
   ]
  },
  {
   "cell_type": "code",
   "execution_count": 3,
   "id": "01d4dc49",
   "metadata": {},
   "outputs": [
    {
     "data": {
      "text/html": [
       "<div>\n",
       "<style scoped>\n",
       "    .dataframe tbody tr th:only-of-type {\n",
       "        vertical-align: middle;\n",
       "    }\n",
       "\n",
       "    .dataframe tbody tr th {\n",
       "        vertical-align: top;\n",
       "    }\n",
       "\n",
       "    .dataframe thead th {\n",
       "        text-align: right;\n",
       "    }\n",
       "</style>\n",
       "<table border=\"1\" class=\"dataframe\">\n",
       "  <thead>\n",
       "    <tr style=\"text-align: right;\">\n",
       "      <th></th>\n",
       "      <th>User ID</th>\n",
       "      <th>Gender</th>\n",
       "      <th>Age</th>\n",
       "      <th>EstimatedSalary</th>\n",
       "      <th>Purchased</th>\n",
       "    </tr>\n",
       "  </thead>\n",
       "  <tbody>\n",
       "    <tr>\n",
       "      <th>0</th>\n",
       "      <td>15624510</td>\n",
       "      <td>Male</td>\n",
       "      <td>19</td>\n",
       "      <td>19000</td>\n",
       "      <td>0</td>\n",
       "    </tr>\n",
       "    <tr>\n",
       "      <th>1</th>\n",
       "      <td>15810944</td>\n",
       "      <td>Male</td>\n",
       "      <td>35</td>\n",
       "      <td>20000</td>\n",
       "      <td>0</td>\n",
       "    </tr>\n",
       "    <tr>\n",
       "      <th>2</th>\n",
       "      <td>15668575</td>\n",
       "      <td>Female</td>\n",
       "      <td>26</td>\n",
       "      <td>43000</td>\n",
       "      <td>0</td>\n",
       "    </tr>\n",
       "    <tr>\n",
       "      <th>3</th>\n",
       "      <td>15603246</td>\n",
       "      <td>Female</td>\n",
       "      <td>27</td>\n",
       "      <td>57000</td>\n",
       "      <td>0</td>\n",
       "    </tr>\n",
       "    <tr>\n",
       "      <th>4</th>\n",
       "      <td>15804002</td>\n",
       "      <td>Male</td>\n",
       "      <td>19</td>\n",
       "      <td>76000</td>\n",
       "      <td>0</td>\n",
       "    </tr>\n",
       "    <tr>\n",
       "      <th>...</th>\n",
       "      <td>...</td>\n",
       "      <td>...</td>\n",
       "      <td>...</td>\n",
       "      <td>...</td>\n",
       "      <td>...</td>\n",
       "    </tr>\n",
       "    <tr>\n",
       "      <th>395</th>\n",
       "      <td>15691863</td>\n",
       "      <td>Female</td>\n",
       "      <td>46</td>\n",
       "      <td>41000</td>\n",
       "      <td>1</td>\n",
       "    </tr>\n",
       "    <tr>\n",
       "      <th>396</th>\n",
       "      <td>15706071</td>\n",
       "      <td>Male</td>\n",
       "      <td>51</td>\n",
       "      <td>23000</td>\n",
       "      <td>1</td>\n",
       "    </tr>\n",
       "    <tr>\n",
       "      <th>397</th>\n",
       "      <td>15654296</td>\n",
       "      <td>Female</td>\n",
       "      <td>50</td>\n",
       "      <td>20000</td>\n",
       "      <td>1</td>\n",
       "    </tr>\n",
       "    <tr>\n",
       "      <th>398</th>\n",
       "      <td>15755018</td>\n",
       "      <td>Male</td>\n",
       "      <td>36</td>\n",
       "      <td>33000</td>\n",
       "      <td>0</td>\n",
       "    </tr>\n",
       "    <tr>\n",
       "      <th>399</th>\n",
       "      <td>15594041</td>\n",
       "      <td>Female</td>\n",
       "      <td>49</td>\n",
       "      <td>36000</td>\n",
       "      <td>1</td>\n",
       "    </tr>\n",
       "  </tbody>\n",
       "</table>\n",
       "<p>400 rows × 5 columns</p>\n",
       "</div>"
      ],
      "text/plain": [
       "      User ID  Gender  Age  EstimatedSalary  Purchased\n",
       "0    15624510    Male   19            19000          0\n",
       "1    15810944    Male   35            20000          0\n",
       "2    15668575  Female   26            43000          0\n",
       "3    15603246  Female   27            57000          0\n",
       "4    15804002    Male   19            76000          0\n",
       "..        ...     ...  ...              ...        ...\n",
       "395  15691863  Female   46            41000          1\n",
       "396  15706071    Male   51            23000          1\n",
       "397  15654296  Female   50            20000          1\n",
       "398  15755018    Male   36            33000          0\n",
       "399  15594041  Female   49            36000          1\n",
       "\n",
       "[400 rows x 5 columns]"
      ]
     },
     "execution_count": 3,
     "metadata": {},
     "output_type": "execute_result"
    }
   ],
   "source": [
    "df"
   ]
  },
  {
   "cell_type": "code",
   "execution_count": 4,
   "id": "ea5342bb",
   "metadata": {},
   "outputs": [],
   "source": [
    "#input data\n",
    "x=df[['Age','EstimatedSalary']]\n",
    "#output data\n",
    "y=df['Purchased']"
   ]
  },
  {
   "cell_type": "code",
   "execution_count": 5,
   "id": "1db3b327",
   "metadata": {},
   "outputs": [],
   "source": [
    "from sklearn.preprocessing import MinMaxScaler\n",
    "scaler = MinMaxScaler()\n",
    "x_scaled = scaler.fit_transform(x)"
   ]
  },
  {
   "cell_type": "code",
   "execution_count": 6,
   "id": "b97f7673",
   "metadata": {},
   "outputs": [],
   "source": [
    "#cross. validation\n",
    "from sklearn.model_selection import train_test_split"
   ]
  },
  {
   "cell_type": "code",
   "execution_count": 7,
   "id": "a34ce0c1",
   "metadata": {},
   "outputs": [],
   "source": [
    "x_train, x_test, y_train, y_test = train_test_split(x_scaled,y,random_state=0,test_size=0.2)"
   ]
  },
  {
   "cell_type": "code",
   "execution_count": 8,
   "id": "2f7afe41",
   "metadata": {},
   "outputs": [
    {
     "data": {
      "text/plain": [
       "array([[0.95238095, 0.95555556],\n",
       "       [0.97619048, 0.5037037 ],\n",
       "       [0.14285714, 0.2962963 ],\n",
       "       [0.19047619, 0.14814815],\n",
       "       [0.95238095, 0.17037037],\n",
       "       [0.57142857, 0.48148148],\n",
       "       [0.52380952, 0.44444444],\n",
       "       [0.97619048, 0.85185185],\n",
       "       [0.66666667, 0.19259259],\n",
       "       [0.54761905, 0.33333333],\n",
       "       [0.57142857, 0.36296296],\n",
       "       [0.45238095, 0.97037037],\n",
       "       [0.11904762, 0.24444444],\n",
       "       [0.16666667, 0.13333333],\n",
       "       [0.14285714, 0.51111111],\n",
       "       [0.21428571, 0.6       ],\n",
       "       [0.11904762, 0.35555556],\n",
       "       [0.71428571, 0.13333333],\n",
       "       [0.71428571, 0.55555556],\n",
       "       [0.57142857, 0.65925926],\n",
       "       [0.61904762, 0.17777778],\n",
       "       [0.33333333, 0.77777778],\n",
       "       [0.47619048, 0.25925926],\n",
       "       [0.33333333, 0.88888889],\n",
       "       [0.80952381, 0.04444444],\n",
       "       [0.83333333, 0.65925926],\n",
       "       [0.5       , 0.2       ],\n",
       "       [0.47619048, 0.34074074],\n",
       "       [0.42857143, 0.25925926],\n",
       "       [0.42857143, 0.35555556],\n",
       "       [0.4047619 , 0.07407407],\n",
       "       [0.4047619 , 0.25925926],\n",
       "       [0.57142857, 0.42962963],\n",
       "       [0.69047619, 0.25185185],\n",
       "       [0.97619048, 0.1037037 ],\n",
       "       [0.73809524, 0.37037037],\n",
       "       [0.64285714, 0.85925926],\n",
       "       [0.30952381, 0.54814815],\n",
       "       [0.66666667, 0.4962963 ],\n",
       "       [0.69047619, 0.26666667],\n",
       "       [0.19047619, 0.        ],\n",
       "       [1.        , 0.64444444],\n",
       "       [0.47619048, 0.71851852],\n",
       "       [0.52380952, 0.68148148],\n",
       "       [0.57142857, 0.28148148],\n",
       "       [0.4047619 , 0.32592593],\n",
       "       [0.71428571, 0.19259259],\n",
       "       [0.71428571, 0.88148148],\n",
       "       [0.47619048, 0.72592593],\n",
       "       [0.26190476, 0.98518519],\n",
       "       [0.19047619, 0.        ],\n",
       "       [1.        , 0.2       ],\n",
       "       [0.14285714, 0.02962963],\n",
       "       [0.57142857, 0.99259259],\n",
       "       [0.66666667, 0.6       ],\n",
       "       [0.23809524, 0.32592593],\n",
       "       [0.5       , 0.6       ],\n",
       "       [0.23809524, 0.54814815],\n",
       "       [0.54761905, 0.42222222],\n",
       "       [0.64285714, 0.08148148],\n",
       "       [0.35714286, 0.4       ],\n",
       "       [0.04761905, 0.4962963 ],\n",
       "       [0.30952381, 0.43703704],\n",
       "       [0.57142857, 0.48148148],\n",
       "       [0.4047619 , 0.42222222],\n",
       "       [0.35714286, 0.99259259],\n",
       "       [0.52380952, 0.41481481],\n",
       "       [0.78571429, 0.97037037],\n",
       "       [0.66666667, 0.47407407],\n",
       "       [0.4047619 , 0.44444444],\n",
       "       [0.47619048, 0.26666667],\n",
       "       [0.42857143, 0.44444444],\n",
       "       [0.45238095, 0.46666667],\n",
       "       [0.47619048, 0.34074074],\n",
       "       [1.        , 0.68888889],\n",
       "       [0.04761905, 0.4962963 ],\n",
       "       [0.92857143, 0.43703704],\n",
       "       [0.57142857, 0.37037037],\n",
       "       [0.19047619, 0.48148148],\n",
       "       [0.66666667, 0.75555556],\n",
       "       [0.4047619 , 0.34074074],\n",
       "       [0.07142857, 0.39259259],\n",
       "       [0.23809524, 0.21481481],\n",
       "       [0.54761905, 0.53333333],\n",
       "       [0.45238095, 0.13333333],\n",
       "       [0.21428571, 0.55555556],\n",
       "       [0.5       , 0.2       ],\n",
       "       [0.23809524, 0.8       ],\n",
       "       [0.30952381, 0.76296296],\n",
       "       [0.16666667, 0.53333333],\n",
       "       [0.4047619 , 0.41481481],\n",
       "       [0.45238095, 0.40740741],\n",
       "       [0.4047619 , 0.17777778],\n",
       "       [0.69047619, 0.05925926],\n",
       "       [0.4047619 , 0.97777778],\n",
       "       [0.71428571, 0.91111111],\n",
       "       [0.19047619, 0.52592593],\n",
       "       [0.16666667, 0.47407407],\n",
       "       [0.80952381, 0.91111111],\n",
       "       [0.78571429, 0.05925926],\n",
       "       [0.4047619 , 0.33333333],\n",
       "       [0.35714286, 0.72592593],\n",
       "       [0.28571429, 0.68148148],\n",
       "       [0.71428571, 0.13333333],\n",
       "       [0.54761905, 0.48148148],\n",
       "       [0.71428571, 0.6       ],\n",
       "       [0.30952381, 0.02222222],\n",
       "       [0.30952381, 0.41481481],\n",
       "       [0.5952381 , 0.84444444],\n",
       "       [0.97619048, 0.45185185],\n",
       "       [0.        , 0.21481481],\n",
       "       [0.42857143, 0.76296296],\n",
       "       [0.57142857, 0.55555556],\n",
       "       [0.69047619, 0.11111111],\n",
       "       [0.19047619, 0.20740741],\n",
       "       [0.52380952, 0.46666667],\n",
       "       [0.66666667, 0.32592593],\n",
       "       [0.97619048, 0.2       ],\n",
       "       [0.66666667, 0.43703704],\n",
       "       [0.4047619 , 0.56296296],\n",
       "       [0.23809524, 0.32592593],\n",
       "       [0.52380952, 0.31111111],\n",
       "       [0.97619048, 0.94814815],\n",
       "       [0.92857143, 0.08148148],\n",
       "       [0.80952381, 0.17037037],\n",
       "       [0.69047619, 0.72592593],\n",
       "       [0.83333333, 0.94814815],\n",
       "       [0.4047619 , 0.08888889],\n",
       "       [0.95238095, 0.63703704],\n",
       "       [0.64285714, 0.22222222],\n",
       "       [0.11904762, 0.4962963 ],\n",
       "       [0.66666667, 0.05925926],\n",
       "       [0.57142857, 0.37037037],\n",
       "       [0.23809524, 0.51111111],\n",
       "       [0.47619048, 0.32592593],\n",
       "       [0.19047619, 0.51111111],\n",
       "       [0.26190476, 0.0962963 ],\n",
       "       [0.45238095, 0.41481481],\n",
       "       [0.0952381 , 0.2962963 ],\n",
       "       [0.71428571, 0.14814815],\n",
       "       [0.73809524, 0.0962963 ],\n",
       "       [0.47619048, 0.37037037],\n",
       "       [0.21428571, 0.01481481],\n",
       "       [0.66666667, 0.0962963 ],\n",
       "       [0.71428571, 0.93333333],\n",
       "       [0.19047619, 0.01481481],\n",
       "       [0.4047619 , 0.60740741],\n",
       "       [0.5       , 0.32592593],\n",
       "       [0.14285714, 0.08888889],\n",
       "       [0.33333333, 0.02222222],\n",
       "       [0.66666667, 0.54074074],\n",
       "       [0.4047619 , 0.31851852],\n",
       "       [0.9047619 , 0.33333333],\n",
       "       [0.69047619, 0.14074074],\n",
       "       [0.52380952, 0.42222222],\n",
       "       [0.33333333, 0.62962963],\n",
       "       [0.02380952, 0.04444444],\n",
       "       [0.16666667, 0.55555556],\n",
       "       [0.4047619 , 0.54074074],\n",
       "       [0.23809524, 0.12592593],\n",
       "       [0.76190476, 0.03703704],\n",
       "       [0.52380952, 0.32592593],\n",
       "       [0.76190476, 0.21481481],\n",
       "       [0.4047619 , 0.42222222],\n",
       "       [0.52380952, 0.94074074],\n",
       "       [0.66666667, 0.12592593],\n",
       "       [0.5       , 0.41481481],\n",
       "       [0.04761905, 0.43703704],\n",
       "       [0.26190476, 0.44444444],\n",
       "       [0.30952381, 0.45185185],\n",
       "       [0.69047619, 0.07407407],\n",
       "       [0.52380952, 0.34074074],\n",
       "       [0.38095238, 0.71851852],\n",
       "       [0.47619048, 0.48148148],\n",
       "       [0.57142857, 0.44444444],\n",
       "       [0.69047619, 0.23703704],\n",
       "       [0.5       , 0.44444444],\n",
       "       [0.02380952, 0.07407407],\n",
       "       [0.45238095, 0.48148148],\n",
       "       [0.42857143, 0.33333333],\n",
       "       [0.54761905, 0.27407407],\n",
       "       [0.42857143, 0.81481481],\n",
       "       [0.71428571, 0.1037037 ],\n",
       "       [0.42857143, 0.82222222],\n",
       "       [0.78571429, 0.88148148],\n",
       "       [0.21428571, 0.31111111],\n",
       "       [0.47619048, 0.41481481],\n",
       "       [0.5       , 0.34074074],\n",
       "       [0.0952381 , 0.08888889],\n",
       "       [0.35714286, 0.33333333],\n",
       "       [0.71428571, 0.43703704],\n",
       "       [0.95238095, 0.05925926],\n",
       "       [0.83333333, 0.42222222],\n",
       "       [0.33333333, 0.75555556],\n",
       "       [0.85714286, 0.40740741],\n",
       "       [0.28571429, 0.48148148],\n",
       "       [0.95238095, 0.59259259],\n",
       "       [0.19047619, 0.27407407],\n",
       "       [0.64285714, 0.47407407],\n",
       "       [0.14285714, 0.2962963 ],\n",
       "       [0.52380952, 0.44444444],\n",
       "       [0.35714286, 0.0962963 ],\n",
       "       [0.61904762, 0.91851852],\n",
       "       [0.0952381 , 0.02222222],\n",
       "       [0.35714286, 0.26666667],\n",
       "       [0.5952381 , 0.87407407],\n",
       "       [0.14285714, 0.12592593],\n",
       "       [0.66666667, 0.05185185],\n",
       "       [0.4047619 , 0.2962963 ],\n",
       "       [0.85714286, 0.65925926],\n",
       "       [0.71428571, 0.77037037],\n",
       "       [0.4047619 , 0.28148148],\n",
       "       [0.45238095, 0.95555556],\n",
       "       [0.11904762, 0.37777778],\n",
       "       [0.45238095, 0.9037037 ],\n",
       "       [0.30952381, 0.31851852],\n",
       "       [0.35714286, 0.19259259],\n",
       "       [0.64285714, 0.05185185],\n",
       "       [0.28571429, 0.        ],\n",
       "       [0.02380952, 0.02962963],\n",
       "       [0.73809524, 0.43703704],\n",
       "       [0.5       , 0.79259259],\n",
       "       [0.4047619 , 0.42962963],\n",
       "       [0.5       , 0.41481481],\n",
       "       [0.14285714, 0.05925926],\n",
       "       [0.54761905, 0.42222222],\n",
       "       [0.26190476, 0.5037037 ],\n",
       "       [0.85714286, 0.08148148],\n",
       "       [0.4047619 , 0.21481481],\n",
       "       [0.45238095, 0.44444444],\n",
       "       [0.26190476, 0.23703704],\n",
       "       [0.30952381, 0.39259259],\n",
       "       [0.57142857, 0.28888889],\n",
       "       [0.28571429, 0.88888889],\n",
       "       [0.80952381, 0.73333333],\n",
       "       [0.76190476, 0.15555556],\n",
       "       [0.9047619 , 0.87407407],\n",
       "       [0.26190476, 0.34074074],\n",
       "       [0.28571429, 0.54814815],\n",
       "       [0.19047619, 0.00740741],\n",
       "       [0.35714286, 0.11851852],\n",
       "       [0.54761905, 0.42222222],\n",
       "       [0.42857143, 0.13333333],\n",
       "       [0.88095238, 0.81481481],\n",
       "       [0.71428571, 0.85925926],\n",
       "       [0.54761905, 0.41481481],\n",
       "       [0.28571429, 0.34814815],\n",
       "       [0.45238095, 0.42222222],\n",
       "       [0.54761905, 0.35555556],\n",
       "       [0.95238095, 0.23703704],\n",
       "       [0.28571429, 0.74814815],\n",
       "       [0.04761905, 0.25185185],\n",
       "       [0.45238095, 0.43703704],\n",
       "       [0.54761905, 0.32592593],\n",
       "       [0.73809524, 0.54814815],\n",
       "       [0.23809524, 0.47407407],\n",
       "       [0.83333333, 0.4962963 ],\n",
       "       [0.52380952, 0.31111111],\n",
       "       [1.        , 0.14074074],\n",
       "       [0.4047619 , 0.68888889],\n",
       "       [0.07142857, 0.42222222],\n",
       "       [0.47619048, 0.41481481],\n",
       "       [0.5       , 0.67407407],\n",
       "       [0.45238095, 0.31111111],\n",
       "       [0.19047619, 0.42222222],\n",
       "       [0.4047619 , 0.05925926],\n",
       "       [0.85714286, 0.68888889],\n",
       "       [0.28571429, 0.01481481],\n",
       "       [0.5       , 0.88148148],\n",
       "       [0.26190476, 0.20740741],\n",
       "       [0.35714286, 0.20740741],\n",
       "       [0.4047619 , 0.17037037],\n",
       "       [0.54761905, 0.22222222],\n",
       "       [0.54761905, 0.42222222],\n",
       "       [0.5       , 0.88148148],\n",
       "       [0.21428571, 0.9037037 ],\n",
       "       [0.07142857, 0.00740741],\n",
       "       [0.19047619, 0.12592593],\n",
       "       [0.30952381, 0.37777778],\n",
       "       [0.5       , 0.42962963],\n",
       "       [0.54761905, 0.47407407],\n",
       "       [0.69047619, 0.25925926],\n",
       "       [0.54761905, 0.11111111],\n",
       "       [0.45238095, 0.57777778],\n",
       "       [1.        , 0.22962963],\n",
       "       [0.16666667, 0.05185185],\n",
       "       [0.23809524, 0.16296296],\n",
       "       [0.47619048, 0.2962963 ],\n",
       "       [0.42857143, 0.28888889],\n",
       "       [0.04761905, 0.15555556],\n",
       "       [0.9047619 , 0.65925926],\n",
       "       [0.52380952, 0.31111111],\n",
       "       [0.57142857, 0.68888889],\n",
       "       [0.04761905, 0.05925926],\n",
       "       [0.52380952, 0.37037037],\n",
       "       [0.69047619, 0.03703704],\n",
       "       [0.        , 0.52592593],\n",
       "       [0.4047619 , 0.47407407],\n",
       "       [0.92857143, 0.13333333],\n",
       "       [0.38095238, 0.42222222],\n",
       "       [0.73809524, 0.17777778],\n",
       "       [0.21428571, 0.11851852],\n",
       "       [0.02380952, 0.40740741],\n",
       "       [0.5       , 0.47407407],\n",
       "       [0.19047619, 0.48888889],\n",
       "       [0.16666667, 0.48148148],\n",
       "       [0.23809524, 0.51851852],\n",
       "       [0.88095238, 0.17777778],\n",
       "       [0.76190476, 0.54074074],\n",
       "       [0.73809524, 0.54074074],\n",
       "       [0.80952381, 1.        ],\n",
       "       [0.4047619 , 0.37037037],\n",
       "       [0.57142857, 0.28888889],\n",
       "       [0.38095238, 0.20740741],\n",
       "       [0.45238095, 0.27407407],\n",
       "       [0.71428571, 0.11111111],\n",
       "       [0.26190476, 0.20740741],\n",
       "       [0.42857143, 0.27407407],\n",
       "       [0.21428571, 0.28888889],\n",
       "       [0.19047619, 0.76296296]])"
      ]
     },
     "execution_count": 8,
     "metadata": {},
     "output_type": "execute_result"
    }
   ],
   "source": [
    "x_train"
   ]
  },
  {
   "cell_type": "code",
   "execution_count": 9,
   "id": "b7f1228c",
   "metadata": {},
   "outputs": [
    {
     "data": {
      "text/plain": [
       "336    1\n",
       "64     0\n",
       "55     0\n",
       "106    0\n",
       "300    1\n",
       "      ..\n",
       "323    1\n",
       "192    0\n",
       "117    0\n",
       "47     0\n",
       "172    0\n",
       "Name: Purchased, Length: 320, dtype: int64"
      ]
     },
     "execution_count": 9,
     "metadata": {},
     "output_type": "execute_result"
    }
   ],
   "source": [
    "y_train"
   ]
  },
  {
   "cell_type": "code",
   "execution_count": 10,
   "id": "66554956",
   "metadata": {},
   "outputs": [],
   "source": [
    "from sklearn.linear_model import LogisticRegression"
   ]
  },
  {
   "cell_type": "code",
   "execution_count": 11,
   "id": "b9e9c956",
   "metadata": {},
   "outputs": [
    {
     "data": {
      "text/plain": [
       "<Axes: xlabel='Purchased', ylabel='count'>"
      ]
     },
     "execution_count": 11,
     "metadata": {},
     "output_type": "execute_result"
    },
    {
     "data": {
      "image/png": "[encoded data removed]",
      "text/plain": [
       "<Figure size 640x480 with 1 Axes>"
      ]
     },
     "metadata": {},
     "output_type": "display_data"
    }
   ],
   "source": [
    "import seaborn as sns\n",
    "sns.countplot(x=y)"
   ]
  },
  {
   "cell_type": "code",
   "execution_count": 12,
   "id": "21ea4992",
   "metadata": {},
   "outputs": [
    {
     "data": {
      "text/plain": [
       "0    257\n",
       "1    143\n",
       "Name: Purchased, dtype: int64"
      ]
     },
     "execution_count": 12,
     "metadata": {},
     "output_type": "execute_result"
    }
   ],
   "source": [
    "y.value_counts()"
   ]
  },
  {
   "cell_type": "code",
   "execution_count": 13,
   "id": "c1631156",
   "metadata": {},
   "outputs": [],
   "source": [
    "#creat the object\n",
    "classifier = LogisticRegression()"
   ]
  },
  {
   "cell_type": "code",
   "execution_count": 14,
   "id": "9e85fe70",
   "metadata": {},
   "outputs": [
    {
     "data": {
      "text/html": [
       "<style>#sk-container-id-1 {\n",
       "  /* Definition of color scheme common for light and dark mode */\n",
       "  --sklearn-color-text: #000;\n",
       "  --sklearn-color-text-muted: #666;\n",
       "  --sklearn-color-line: gray;\n",
       "  /* Definition of color scheme for unfitted estimators */\n",
       "  --sklearn-color-unfitted-level-0: #fff5e6;\n",
       "  --sklearn-color-unfitted-level-1: #f6e4d2;\n",
       "  --sklearn-color-unfitted-level-2: #ffe0b3;\n",
       "  --sklearn-color-unfitted-level-3: chocolate;\n",
       "  /* Definition of color scheme for fitted estimators */\n",
       "  --sklearn-color-fitted-level-0: #f0f8ff;\n",
       "  --sklearn-color-fitted-level-1: #d4ebff;\n",
       "  --sklearn-color-fitted-level-2: #b3dbfd;\n",
       "  --sklearn-color-fitted-level-3: cornflowerblue;\n",
       "\n",
       "  /* Specific color for light theme */\n",
       "  --sklearn-color-text-on-default-background: var(--sg-text-color, var(--theme-code-foreground, var(--jp-content-font-color1, black)));\n",
       "  --sklearn-color-background: var(--sg-background-color, var(--theme-background, var(--jp-layout-color0, white)));\n",
       "  --sklearn-color-border-box: var(--sg-text-color, var(--theme-code-foreground, var(--jp-content-font-color1, black)));\n",
       "  --sklearn-color-icon: #696969;\n",
       "\n",
       "  @media (prefers-color-scheme: dark) {\n",
       "    /* Redefinition of color scheme for dark theme */\n",
       "    --sklearn-color-text-on-default-background: var(--sg-text-color, var(--theme-code-foreground, var(--jp-content-font-color1, white)));\n",
       "    --sklearn-color-background: var(--sg-background-color, var(--theme-background, var(--jp-layout-color0, #111)));\n",
       "    --sklearn-color-border-box: var(--sg-text-color, var(--theme-code-foreground, var(--jp-content-font-color1, white)));\n",
       "    --sklearn-color-icon: #878787;\n",
       "  }\n",
       "}\n",
       "\n",
       "#sk-container-id-1 {\n",
       "  color: var(--sklearn-color-text);\n",
       "}\n",
       "\n",
       "#sk-container-id-1 pre {\n",
       "  padding: 0;\n",
       "}\n",
       "\n",
       "#sk-container-id-1 input.sk-hidden--visually {\n",
       "  border: 0;\n",
       "  clip: rect(1px 1px 1px 1px);\n",
       "  clip: rect(1px, 1px, 1px, 1px);\n",
       "  height: 1px;\n",
       "  margin: -1px;\n",
       "  overflow: hidden;\n",
       "  padding: 0;\n",
       "  position: absolute;\n",
       "  width: 1px;\n",
       "}\n",
       "\n",
       "#sk-container-id-1 div.sk-dashed-wrapped {\n",
       "  border: 1px dashed var(--sklearn-color-line);\n",
       "  margin: 0 0.4em 0.5em 0.4em;\n",
       "  box-sizing: border-box;\n",
       "  padding-bottom: 0.4em;\n",
       "  background-color: var(--sklearn-color-background);\n",
       "}\n",
       "\n",
       "#sk-container-id-1 div.sk-container {\n",
       "  /* jupyter's `normalize.less` sets `[hidden] { display: none; }`\n",
       "     but bootstrap.min.css set `[hidden] { display: none !important; }`\n",
       "     so we also need the `!important` here to be able to override the\n",
       "     default hidden behavior on the sphinx rendered scikit-learn.org.\n",
       "     See: https://github.com/scikit-learn/scikit-learn/issues/21755 */\n",
       "  display: inline-block !important;\n",
       "  position: relative;\n",
       "}\n",
       "\n",
       "#sk-container-id-1 div.sk-text-repr-fallback {\n",
       "  display: none;\n",
       "}\n",
       "\n",
       "div.sk-parallel-item,\n",
       "div.sk-serial,\n",
       "div.sk-item {\n",
       "  /* draw centered vertical line to link estimators */\n",
       "  background-image: linear-gradient(var(--sklearn-color-text-on-default-background), var(--sklearn-color-text-on-default-background));\n",
       "  background-size: 2px 100%;\n",
       "  background-repeat: no-repeat;\n",
       "  background-position: center center;\n",
       "}\n",
       "\n",
       "/* Parallel-specific style estimator block */\n",
       "\n",
       "#sk-container-id-1 div.sk-parallel-item::after {\n",
       "  content: \"\";\n",
       "  width: 100%;\n",
       "  border-bottom: 2px solid var(--sklearn-color-text-on-default-background);\n",
       "  flex-grow: 1;\n",
       "}\n",
       "\n",
       "#sk-container-id-1 div.sk-parallel {\n",
       "  display: flex;\n",
       "  align-items: stretch;\n",
       "  justify-content: center;\n",
       "  background-color: var(--sklearn-color-background);\n",
       "  position: relative;\n",
       "}\n",
       "\n",
       "#sk-container-id-1 div.sk-parallel-item {\n",
       "  display: flex;\n",
       "  flex-direction: column;\n",
       "}\n",
       "\n",
       "#sk-container-id-1 div.sk-parallel-item:first-child::after {\n",
       "  align-self: flex-end;\n",
       "  width: 50%;\n",
       "}\n",
       "\n",
       "#sk-container-id-1 div.sk-parallel-item:last-child::after {\n",
       "  align-self: flex-start;\n",
       "  width: 50%;\n",
       "}\n",
       "\n",
       "#sk-container-id-1 div.sk-parallel-item:only-child::after {\n",
       "  width: 0;\n",
       "}\n",
       "\n",
       "/* Serial-specific style estimator block */\n",
       "\n",
       "#sk-container-id-1 div.sk-serial {\n",
       "  display: flex;\n",
       "  flex-direction: column;\n",
       "  align-items: center;\n",
       "  background-color: var(--sklearn-color-background);\n",
       "  padding-right: 1em;\n",
       "  padding-left: 1em;\n",
       "}\n",
       "\n",
       "\n",
       "/* Toggleable style: style used for estimator/Pipeline/ColumnTransformer box that is\n",
       "clickable and can be expanded/collapsed.\n",
       "- Pipeline and ColumnTransformer use this feature and define the default style\n",
       "- Estimators will overwrite some part of the style using the `sk-estimator` class\n",
       "*/\n",
       "\n",
       "/* Pipeline and ColumnTransformer style (default) */\n",
       "\n",
       "#sk-container-id-1 div.sk-toggleable {\n",
       "  /* Default theme specific background. It is overwritten whether we have a\n",
       "  specific estimator or a Pipeline/ColumnTransformer */\n",
       "  background-color: var(--sklearn-color-background);\n",
       "}\n",
       "\n",
       "/* Toggleable label */\n",
       "#sk-container-id-1 label.sk-toggleable__label {\n",
       "  cursor: pointer;\n",
       "  display: flex;\n",
       "  width: 100%;\n",
       "  margin-bottom: 0;\n",
       "  padding: 0.5em;\n",
       "  box-sizing: border-box;\n",
       "  text-align: center;\n",
       "  align-items: start;\n",
       "  justify-content: space-between;\n",
       "  gap: 0.5em;\n",
       "}\n",
       "\n",
       "#sk-container-id-1 label.sk-toggleable__label .caption {\n",
       "  font-size: 0.6rem;\n",
       "  font-weight: lighter;\n",
       "  color: var(--sklearn-color-text-muted);\n",
       "}\n",
       "\n",
       "#sk-container-id-1 label.sk-toggleable__label-arrow:before {\n",
       "  /* Arrow on the left of the label */\n",
       "  content: \"▸\";\n",
       "  float: left;\n",
       "  margin-right: 0.25em;\n",
       "  color: var(--sklearn-color-icon);\n",
       "}\n",
       "\n",
       "#sk-container-id-1 label.sk-toggleable__label-arrow:hover:before {\n",
       "  color: var(--sklearn-color-text);\n",
       "}\n",
       "\n",
       "/* Toggleable content - dropdown */\n",
       "\n",
       "#sk-container-id-1 div.sk-toggleable__content {\n",
       "  max-height: 0;\n",
       "  max-width: 0;\n",
       "  overflow: hidden;\n",
       "  text-align: left;\n",
       "  /* unfitted */\n",
       "  background-color: var(--sklearn-color-unfitted-level-0);\n",
       "}\n",
       "\n",
       "#sk-container-id-1 div.sk-toggleable__content.fitted {\n",
       "  /* fitted */\n",
       "  background-color: var(--sklearn-color-fitted-level-0);\n",
       "}\n",
       "\n",
       "#sk-container-id-1 div.sk-toggleable__content pre {\n",
       "  margin: 0.2em;\n",
       "  border-radius: 0.25em;\n",
       "  color: var(--sklearn-color-text);\n",
       "  /* unfitted */\n",
       "  background-color: var(--sklearn-color-unfitted-level-0);\n",
       "}\n",
       "\n",
       "#sk-container-id-1 div.sk-toggleable__content.fitted pre {\n",
       "  /* unfitted */\n",
       "  background-color: var(--sklearn-color-fitted-level-0);\n",
       "}\n",
       "\n",
       "#sk-container-id-1 input.sk-toggleable__control:checked~div.sk-toggleable__content {\n",
       "  /* Expand drop-down */\n",
       "  max-height: 200px;\n",
       "  max-width: 100%;\n",
       "  overflow: auto;\n",
       "}\n",
       "\n",
       "#sk-container-id-1 input.sk-toggleable__control:checked~label.sk-toggleable__label-arrow:before {\n",
       "  content: \"▾\";\n",
       "}\n",
       "\n",
       "/* Pipeline/ColumnTransformer-specific style */\n",
       "\n",
       "#sk-container-id-1 div.sk-label input.sk-toggleable__control:checked~label.sk-toggleable__label {\n",
       "  color: var(--sklearn-color-text);\n",
       "  background-color: var(--sklearn-color-unfitted-level-2);\n",
       "}\n",
       "\n",
       "#sk-container-id-1 div.sk-label.fitted input.sk-toggleable__control:checked~label.sk-toggleable__label {\n",
       "  background-color: var(--sklearn-color-fitted-level-2);\n",
       "}\n",
       "\n",
       "/* Estimator-specific style */\n",
       "\n",
       "/* Colorize estimator box */\n",
       "#sk-container-id-1 div.sk-estimator input.sk-toggleable__control:checked~label.sk-toggleable__label {\n",
       "  /* unfitted */\n",
       "  background-color: var(--sklearn-color-unfitted-level-2);\n",
       "}\n",
       "\n",
       "#sk-container-id-1 div.sk-estimator.fitted input.sk-toggleable__control:checked~label.sk-toggleable__label {\n",
       "  /* fitted */\n",
       "  background-color: var(--sklearn-color-fitted-level-2);\n",
       "}\n",
       "\n",
       "#sk-container-id-1 div.sk-label label.sk-toggleable__label,\n",
       "#sk-container-id-1 div.sk-label label {\n",
       "  /* The background is the default theme color */\n",
       "  color: var(--sklearn-color-text-on-default-background);\n",
       "}\n",
       "\n",
       "/* On hover, darken the color of the background */\n",
       "#sk-container-id-1 div.sk-label:hover label.sk-toggleable__label {\n",
       "  color: var(--sklearn-color-text);\n",
       "  background-color: var(--sklearn-color-unfitted-level-2);\n",
       "}\n",
       "\n",
       "/* Label box, darken color on hover, fitted */\n",
       "#sk-container-id-1 div.sk-label.fitted:hover label.sk-toggleable__label.fitted {\n",
       "  color: var(--sklearn-color-text);\n",
       "  background-color: var(--sklearn-color-fitted-level-2);\n",
       "}\n",
       "\n",
       "/* Estimator label */\n",
       "\n",
       "#sk-container-id-1 div.sk-label label {\n",
       "  font-family: monospace;\n",
       "  font-weight: bold;\n",
       "  display: inline-block;\n",
       "  line-height: 1.2em;\n",
       "}\n",
       "\n",
       "#sk-container-id-1 div.sk-label-container {\n",
       "  text-align: center;\n",
       "}\n",
       "\n",
       "/* Estimator-specific */\n",
       "#sk-container-id-1 div.sk-estimator {\n",
       "  font-family: monospace;\n",
       "  border: 1px dotted var(--sklearn-color-border-box);\n",
       "  border-radius: 0.25em;\n",
       "  box-sizing: border-box;\n",
       "  margin-bottom: 0.5em;\n",
       "  /* unfitted */\n",
       "  background-color: var(--sklearn-color-unfitted-level-0);\n",
       "}\n",
       "\n",
       "#sk-container-id-1 div.sk-estimator.fitted {\n",
       "  /* fitted */\n",
       "  background-color: var(--sklearn-color-fitted-level-0);\n",
       "}\n",
       "\n",
       "/* on hover */\n",
       "#sk-container-id-1 div.sk-estimator:hover {\n",
       "  /* unfitted */\n",
       "  background-color: var(--sklearn-color-unfitted-level-2);\n",
       "}\n",
       "\n",
       "#sk-container-id-1 div.sk-estimator.fitted:hover {\n",
       "  /* fitted */\n",
       "  background-color: var(--sklearn-color-fitted-level-2);\n",
       "}\n",
       "\n",
       "/* Specification for estimator info (e.g. \"i\" and \"?\") */\n",
       "\n",
       "/* Common style for \"i\" and \"?\" */\n",
       "\n",
       ".sk-estimator-doc-link,\n",
       "a:link.sk-estimator-doc-link,\n",
       "a:visited.sk-estimator-doc-link {\n",
       "  float: right;\n",
       "  font-size: smaller;\n",
       "  line-height: 1em;\n",
       "  font-family: monospace;\n",
       "  background-color: var(--sklearn-color-background);\n",
       "  border-radius: 1em;\n",
       "  height: 1em;\n",
       "  width: 1em;\n",
       "  text-decoration: none !important;\n",
       "  margin-left: 0.5em;\n",
       "  text-align: center;\n",
       "  /* unfitted */\n",
       "  border: var(--sklearn-color-unfitted-level-1) 1pt solid;\n",
       "  color: var(--sklearn-color-unfitted-level-1);\n",
       "}\n",
       "\n",
       ".sk-estimator-doc-link.fitted,\n",
       "a:link.sk-estimator-doc-link.fitted,\n",
       "a:visited.sk-estimator-doc-link.fitted {\n",
       "  /* fitted */\n",
       "  border: var(--sklearn-color-fitted-level-1) 1pt solid;\n",
       "  color: var(--sklearn-color-fitted-level-1);\n",
       "}\n",
       "\n",
       "/* On hover */\n",
       "div.sk-estimator:hover .sk-estimator-doc-link:hover,\n",
       ".sk-estimator-doc-link:hover,\n",
       "div.sk-label-container:hover .sk-estimator-doc-link:hover,\n",
       ".sk-estimator-doc-link:hover {\n",
       "  /* unfitted */\n",
       "  background-color: var(--sklearn-color-unfitted-level-3);\n",
       "  color: var(--sklearn-color-background);\n",
       "  text-decoration: none;\n",
       "}\n",
       "\n",
       "div.sk-estimator.fitted:hover .sk-estimator-doc-link.fitted:hover,\n",
       ".sk-estimator-doc-link.fitted:hover,\n",
       "div.sk-label-container:hover .sk-estimator-doc-link.fitted:hover,\n",
       ".sk-estimator-doc-link.fitted:hover {\n",
       "  /* fitted */\n",
       "  background-color: var(--sklearn-color-fitted-level-3);\n",
       "  color: var(--sklearn-color-background);\n",
       "  text-decoration: none;\n",
       "}\n",
       "\n",
       "/* Span, style for the box shown on hovering the info icon */\n",
       ".sk-estimator-doc-link span {\n",
       "  display: none;\n",
       "  z-index: 9999;\n",
       "  position: relative;\n",
       "  font-weight: normal;\n",
       "  right: .2ex;\n",
       "  padding: .5ex;\n",
       "  margin: .5ex;\n",
       "  width: min-content;\n",
       "  min-width: 20ex;\n",
       "  max-width: 50ex;\n",
       "  color: var(--sklearn-color-text);\n",
       "  box-shadow: 2pt 2pt 4pt #999;\n",
       "  /* unfitted */\n",
       "  background: var(--sklearn-color-unfitted-level-0);\n",
       "  border: .5pt solid var(--sklearn-color-unfitted-level-3);\n",
       "}\n",
       "\n",
       ".sk-estimator-doc-link.fitted span {\n",
       "  /* fitted */\n",
       "  background: var(--sklearn-color-fitted-level-0);\n",
       "  border: var(--sklearn-color-fitted-level-3);\n",
       "}\n",
       "\n",
       ".sk-estimator-doc-link:hover span {\n",
       "  display: block;\n",
       "}\n",
       "\n",
       "/* \"?\"-specific style due to the `<a>` HTML tag */\n",
       "\n",
       "#sk-container-id-1 a.estimator_doc_link {\n",
       "  float: right;\n",
       "  font-size: 1rem;\n",
       "  line-height: 1em;\n",
       "  font-family: monospace;\n",
       "  background-color: var(--sklearn-color-background);\n",
       "  border-radius: 1rem;\n",
       "  height: 1rem;\n",
       "  width: 1rem;\n",
       "  text-decoration: none;\n",
       "  /* unfitted */\n",
       "  color: var(--sklearn-color-unfitted-level-1);\n",
       "  border: var(--sklearn-color-unfitted-level-1) 1pt solid;\n",
       "}\n",
       "\n",
       "#sk-container-id-1 a.estimator_doc_link.fitted {\n",
       "  /* fitted */\n",
       "  border: var(--sklearn-color-fitted-level-1) 1pt solid;\n",
       "  color: var(--sklearn-color-fitted-level-1);\n",
       "}\n",
       "\n",
       "/* On hover */\n",
       "#sk-container-id-1 a.estimator_doc_link:hover {\n",
       "  /* unfitted */\n",
       "  background-color: var(--sklearn-color-unfitted-level-3);\n",
       "  color: var(--sklearn-color-background);\n",
       "  text-decoration: none;\n",
       "}\n",
       "\n",
       "#sk-container-id-1 a.estimator_doc_link.fitted:hover {\n",
       "  /* fitted */\n",
       "  background-color: var(--sklearn-color-fitted-level-3);\n",
       "}\n",
       "</style><div id=\"sk-container-id-1\" class=\"sk-top-container\"><div class=\"sk-text-repr-fallback\"><pre>LogisticRegression()</pre><b>In a Jupyter environment, please rerun this cell to show the HTML representation or trust the notebook. <br />On GitHub, the HTML representation is unable to render, please try loading this page with nbviewer.org.</b></div><div class=\"sk-container\" hidden><div class=\"sk-item\"><div class=\"sk-estimator fitted sk-toggleable\"><input class=\"sk-toggleable__control sk-hidden--visually\" id=\"sk-estimator-id-1\" type=\"checkbox\" checked><label for=\"sk-estimator-id-1\" class=\"sk-toggleable__label fitted sk-toggleable__label-arrow\"><div><div>LogisticRegression</div></div><div><a class=\"sk-estimator-doc-link fitted\" rel=\"noreferrer\" target=\"_blank\" href=\"https://scikit-learn.org/1.6/modules/generated/sklearn.linear_model.LogisticRegression.html\">?<span>Documentation for LogisticRegression</span></a><span class=\"sk-estimator-doc-link fitted\">i<span>Fitted</span></span></div></label><div class=\"sk-toggleable__content fitted\"><pre>LogisticRegression()</pre></div> </div></div></div></div>"
      ],
      "text/plain": [
       "LogisticRegression()"
      ]
     },
     "execution_count": 14,
     "metadata": {},
     "output_type": "execute_result"
    }
   ],
   "source": [
    "classifier.fit(x_train,y_train)"
   ]
  },
  {
   "cell_type": "code",
   "execution_count": 15,
   "id": "ba264a88",
   "metadata": {},
   "outputs": [],
   "source": [
    "#predication\n",
    "y_pred = classifier.predict(x_test)"
   ]
  },
  {
   "cell_type": "code",
   "execution_count": 16,
   "id": "130e5104",
   "metadata": {},
   "outputs": [
    {
     "data": {
      "text/plain": [
       "(320,)"
      ]
     },
     "execution_count": 16,
     "metadata": {},
     "output_type": "execute_result"
    }
   ],
   "source": [
    "y_train.shape"
   ]
  },
  {
   "cell_type": "code",
   "execution_count": 17,
   "id": "73160373",
   "metadata": {},
   "outputs": [
    {
     "data": {
      "text/plain": [
       "(320, 2)"
      ]
     },
     "execution_count": 17,
     "metadata": {},
     "output_type": "execute_result"
    }
   ],
   "source": [
    "x_train.shape"
   ]
  },
  {
   "cell_type": "code",
   "execution_count": 18,
   "id": "663947fb",
   "metadata": {},
   "outputs": [
    {
     "data": {
      "text/plain": [
       "array([0, 0, 0, 0, 0, 0, 0, 1, 0, 0, 0, 0, 0, 0, 0, 0, 0, 0, 1, 0, 0, 1,\n",
       "       0, 1, 0, 1, 0, 0, 0, 0, 0, 0, 1, 0, 0, 0, 0, 0, 0, 0, 0, 0, 0, 0,\n",
       "       1, 0, 0, 1, 0, 1, 1, 0, 0, 0, 1, 0, 0, 0, 0, 0, 0, 1, 0, 0, 0, 1,\n",
       "       0, 0, 0, 0, 1, 0, 0, 0, 0, 0, 0, 0, 1, 1])"
      ]
     },
     "execution_count": 18,
     "metadata": {},
     "output_type": "execute_result"
    }
   ],
   "source": [
    "y_pred"
   ]
  },
  {
   "cell_type": "code",
   "execution_count": 19,
   "id": "ace58f27",
   "metadata": {},
   "outputs": [
    {
     "data": {
      "text/plain": [
       "132    0\n",
       "309    0\n",
       "341    0\n",
       "196    0\n",
       "246    0\n",
       "      ..\n",
       "14     0\n",
       "363    0\n",
       "304    0\n",
       "361    1\n",
       "329    1\n",
       "Name: Purchased, Length: 80, dtype: int64"
      ]
     },
     "execution_count": 19,
     "metadata": {},
     "output_type": "execute_result"
    }
   ],
   "source": [
    "y_test"
   ]
  },
  {
   "cell_type": "code",
   "execution_count": 20,
   "id": "6763e191",
   "metadata": {},
   "outputs": [],
   "source": [
    "import matplotlib.pyplot as plt"
   ]
  },
  {
   "cell_type": "code",
   "execution_count": 21,
   "id": "bcc94788",
   "metadata": {},
   "outputs": [
    {
     "data": {
      "text/plain": [
       "<matplotlib.collections.PathCollection at 0x7f605335c6d0>"
      ]
     },
     "execution_count": 21,
     "metadata": {},
     "output_type": "execute_result"
    },
    {
     "data": {
      "image/png": "[encoded data removed]",
      "text/plain": [
       "<Figure size 640x480 with 1 Axes>"
      ]
     },
     "metadata": {},
     "output_type": "display_data"
    }
   ],
   "source": [
    "plt.xlabel('Age')\n",
    "plt.ylabel('Salary')\n",
    "plt.scatter(x['Age'],x['EstimatedSalary'],c=y)"
   ]
  },
  {
   "cell_type": "code",
   "execution_count": 22,
   "id": "0e7019dc",
   "metadata": {},
   "outputs": [],
   "source": [
    "from sklearn.metrics import confusion_matrix\n",
    "from sklearn.metrics import ConfusionMatrixDisplay\n",
    "from sklearn.preprocessing import MinMaxScaler\n",
    "scaler = MinMaxScaler()\n",
    "x_scaled = scaler.fit_transform(x)"
   ]
  },
  {
   "cell_type": "code",
   "execution_count": 23,
   "id": "3a2cf549",
   "metadata": {},
   "outputs": [
    {
     "data": {
      "text/plain": [
       "array([[58,  0],\n",
       "       [ 6, 16]])"
      ]
     },
     "execution_count": 23,
     "metadata": {},
     "output_type": "execute_result"
    }
   ],
   "source": [
    "confusion_matrix(y_test,y_pred)"
   ]
  },
  {
   "cell_type": "code",
   "execution_count": 24,
   "id": "14ba1c2d",
   "metadata": {},
   "outputs": [
    {
     "data": {
      "text/plain": [
       "0    58\n",
       "1    22\n",
       "Name: Purchased, dtype: int64"
      ]
     },
     "execution_count": 24,
     "metadata": {},
     "output_type": "execute_result"
    }
   ],
   "source": [
    "y_test.value_counts()"
   ]
  },
  {
   "cell_type": "code",
   "execution_count": 25,
   "id": "494b3c40",
   "metadata": {},
   "outputs": [],
   "source": [
    "cm=confusion_matrix(y_test, y_pred)"
   ]
  },
  {
   "cell_type": "code",
   "execution_count": 26,
   "id": "5c91e12a",
   "metadata": {},
   "outputs": [
    {
     "data": {
      "text/plain": [
       "<sklearn.metrics._plot.confusion_matrix.ConfusionMatrixDisplay at 0x7f60533c1cd0>"
      ]
     },
     "execution_count": 26,
     "metadata": {},
     "output_type": "execute_result"
    },
    {
     "data": {
      "image/png": "[encoded data removed]",
      "text/plain": [
       "<Figure size 640x480 with 2 Axes>"
      ]
     },
     "metadata": {},
     "output_type": "display_data"
    }
   ],
   "source": [
    "disp = ConfusionMatrixDisplay(confusion_matrix=cm, display_labels=[\"Not Purchased\", \"Purchased\"])\n",
    "disp.plot()"
   ]
  },
  {
   "cell_type": "code",
   "execution_count": 27,
   "id": "f43a13ac",
   "metadata": {},
   "outputs": [
    {
     "data": {
      "text/plain": [
       "0.925"
      ]
     },
     "execution_count": 27,
     "metadata": {},
     "output_type": "execute_result"
    }
   ],
   "source": [
    "from sklearn.metrics import accuracy_score\n",
    "accuracy_score(y_test,y_pred)"
   ]
  },
  {
   "cell_type": "code",
   "execution_count": 28,
   "id": "3be91a8b",
   "metadata": {},
   "outputs": [],
   "source": [
    "from sklearn.metrics import classification_report"
   ]
  },
  {
   "cell_type": "code",
   "execution_count": 29,
   "id": "fa8bd69a",
   "metadata": {},
   "outputs": [
    {
     "name": "stdout",
     "output_type": "stream",
     "text": [
      "              precision    recall  f1-score   support\n",
      "\n",
      "           0       0.91      1.00      0.95        58\n",
      "           1       1.00      0.73      0.84        22\n",
      "\n",
      "    accuracy                           0.93        80\n",
      "   macro avg       0.95      0.86      0.90        80\n",
      "weighted avg       0.93      0.93      0.92        80\n",
      "\n"
     ]
    }
   ],
   "source": [
    "print(classification_report(y_test,y_pred))"
   ]
  },
  {
   "cell_type": "code",
   "execution_count": 30,
   "id": "f93d0be8",
   "metadata": {},
   "outputs": [],
   "source": [
    "new1=[[26,34000]]\n",
    "new2=[[57,138000]]"
   ]
  },
  {
   "cell_type": "code",
   "execution_count": 31,
   "id": "b01464c7",
   "metadata": {},
   "outputs": [
    {
     "name": "stderr",
     "output_type": "stream",
     "text": [
      "/home/rllab4/.local/lib/python3.11/site-packages/sklearn/utils/validation.py:2739: UserWarning: X does not have valid feature names, but MinMaxScaler was fitted with feature names\n",
      "  warnings.warn(\n"
     ]
    },
    {
     "data": {
      "text/plain": [
       "array([0])"
      ]
     },
     "execution_count": 31,
     "metadata": {},
     "output_type": "execute_result"
    }
   ],
   "source": [
    "classifier.predict(scaler.transform(new1))"
   ]
  },
  {
   "cell_type": "code",
   "execution_count": 32,
   "id": "185b8aea",
   "metadata": {},
   "outputs": [
    {
     "name": "stderr",
     "output_type": "stream",
     "text": [
      "/home/rllab4/.local/lib/python3.11/site-packages/sklearn/utils/validation.py:2739: UserWarning: X does not have valid feature names, but MinMaxScaler was fitted with feature names\n",
      "  warnings.warn(\n"
     ]
    },
    {
     "data": {
      "text/plain": [
       "array([1])"
      ]
     },
     "execution_count": 32,
     "metadata": {},
     "output_type": "execute_result"
    }
   ],
   "source": [
    "classifier.predict(scaler.transform(new2))"
   ]
  }
 ],
 "metadata": {
  "kernelspec": {
   "display_name": "Python 3 (ipykernel)",
   "language": "python",
   "name": "python3"
  },
  "language_info": {
   "codemirror_mode": {
    "name": "ipython",
    "version": 3
   },
   "file_extension": ".py",
   "mimetype": "text/x-python",
   "name": "python",
   "nbconvert_exporter": "python",
   "pygments_lexer": "ipython3",
   "version": "3.11.8"
  }
 },
 "nbformat": 4,
 "nbformat_minor": 5
}
