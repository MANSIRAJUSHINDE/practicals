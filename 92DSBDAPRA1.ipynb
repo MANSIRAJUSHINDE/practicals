{
 "cells": [
  {
   "cell_type": "code",
   "execution_count": 1,
   "id": "884268d5-362d-4847-8dbb-609f06d7d349",
   "metadata": {},
   "outputs": [],
   "source": [
    "import pandas as pd\n",
    "import numpy as np"
   ]
  },
  {
   "cell_type": "code",
   "execution_count": 2,
   "id": "1c3b4be2-b2ff-4ca7-8f5f-9c770a878d48",
   "metadata": {},
   "outputs": [
    {
     "name": "stdout",
     "output_type": "stream",
     "text": [
      "       Name  Gender Marks  Age\n",
      "0     MANSI  Female    91   21\n",
      "1  Priyanka  Female    80   21\n",
      "2       Raj    Male    78   22\n",
      "3  Shrutika  Female   Nan   23\n",
      "4   atharva    Male    76   24\n",
      "5    Ananya  Female    82   25\n",
      "6     Rohan    Male   Nan   26\n"
     ]
    }
   ],
   "source": [
    "data = {\n",
    " \"Name\": [\"MANSI\", \"Priyanka\", \"Raj\", \"Shrutika\", \"atharva\", \"Ananya\", \"Rohan\"],\n",
    " \"Gender\": [\"Female\", \"Female\", \"Male\", \"Female\", \"Male\", \"Female\", \"Male\"],\n",
    " \"Marks\": [91, 80, 78, 'Nan', 76, 82, 'Nan'],\n",
    " \"Age\": [21,21,22,23,24,25,26]\n",
    "}\n",
    "df = pd.DataFrame(data)\n",
    "print(df)"
   ]
  },
  {
   "cell_type": "markdown",
   "id": "96f4cf69-8332-4bc9-812d-68615aace1ef",
   "metadata": {},
   "source": [
    "## np.mean(df)"
   ]
  },
  {
   "cell_type": "code",
   "execution_count": 3,
   "id": "01d79e7d-249d-466e-b45f-acc7abc8d5a8",
   "metadata": {},
   "outputs": [
    {
     "data": {
      "text/html": [
       "<div>\n",
       "<style scoped>\n",
       "    .dataframe tbody tr th:only-of-type {\n",
       "        vertical-align: middle;\n",
       "    }\n",
       "\n",
       "    .dataframe tbody tr th {\n",
       "        vertical-align: top;\n",
       "    }\n",
       "\n",
       "    .dataframe thead th {\n",
       "        text-align: right;\n",
       "    }\n",
       "</style>\n",
       "<table border=\"1\" class=\"dataframe\">\n",
       "  <thead>\n",
       "    <tr style=\"text-align: right;\">\n",
       "      <th></th>\n",
       "      <th>Name</th>\n",
       "      <th>Gender</th>\n",
       "      <th>Marks</th>\n",
       "      <th>Age</th>\n",
       "    </tr>\n",
       "  </thead>\n",
       "  <tbody>\n",
       "    <tr>\n",
       "      <th>0</th>\n",
       "      <td>MANSI</td>\n",
       "      <td>Female</td>\n",
       "      <td>91</td>\n",
       "      <td>21</td>\n",
       "    </tr>\n",
       "    <tr>\n",
       "      <th>1</th>\n",
       "      <td>Priyanka</td>\n",
       "      <td>Female</td>\n",
       "      <td>80</td>\n",
       "      <td>21</td>\n",
       "    </tr>\n",
       "    <tr>\n",
       "      <th>2</th>\n",
       "      <td>Raj</td>\n",
       "      <td>Male</td>\n",
       "      <td>78</td>\n",
       "      <td>22</td>\n",
       "    </tr>\n",
       "    <tr>\n",
       "      <th>3</th>\n",
       "      <td>Shrutika</td>\n",
       "      <td>Female</td>\n",
       "      <td>Nan</td>\n",
       "      <td>23</td>\n",
       "    </tr>\n",
       "    <tr>\n",
       "      <th>4</th>\n",
       "      <td>atharva</td>\n",
       "      <td>Male</td>\n",
       "      <td>76</td>\n",
       "      <td>24</td>\n",
       "    </tr>\n",
       "    <tr>\n",
       "      <th>5</th>\n",
       "      <td>Ananya</td>\n",
       "      <td>Female</td>\n",
       "      <td>82</td>\n",
       "      <td>25</td>\n",
       "    </tr>\n",
       "    <tr>\n",
       "      <th>6</th>\n",
       "      <td>Rohan</td>\n",
       "      <td>Male</td>\n",
       "      <td>Nan</td>\n",
       "      <td>26</td>\n",
       "    </tr>\n",
       "  </tbody>\n",
       "</table>\n",
       "</div>"
      ],
      "text/plain": [
       "       Name  Gender Marks  Age\n",
       "0     MANSI  Female    91   21\n",
       "1  Priyanka  Female    80   21\n",
       "2       Raj    Male    78   22\n",
       "3  Shrutika  Female   Nan   23\n",
       "4   atharva    Male    76   24\n",
       "5    Ananya  Female    82   25\n",
       "6     Rohan    Male   Nan   26"
      ]
     },
     "execution_count": 3,
     "metadata": {},
     "output_type": "execute_result"
    }
   ],
   "source": [
    "cat=[]\n",
    "con=[]\n",
    "for i in df.columns:\n",
    " if(df[i].dtypes==\"object\"):\n",
    "  cat.append(i)\n",
    "else:\n",
    " con.append(i)\n",
    "df"
   ]
  },
  {
   "cell_type": "code",
   "execution_count": 4,
   "id": "c97e7817-b1bb-416f-bc95-d7889b09251a",
   "metadata": {},
   "outputs": [
    {
     "data": {
      "text/plain": [
       "['Name', 'Gender', 'Marks']"
      ]
     },
     "execution_count": 4,
     "metadata": {},
     "output_type": "execute_result"
    }
   ],
   "source": [
    "cat"
   ]
  },
  {
   "cell_type": "code",
   "execution_count": 5,
   "id": "1e0f3463-57f7-439a-8727-284a6053aa21",
   "metadata": {},
   "outputs": [
    {
     "data": {
      "text/plain": [
       "['Age']"
      ]
     },
     "execution_count": 5,
     "metadata": {},
     "output_type": "execute_result"
    }
   ],
   "source": [
    "con"
   ]
  },
  {
   "cell_type": "code",
   "execution_count": 6,
   "id": "c31c57c6-2761-47d1-b518-d3777c1cabcc",
   "metadata": {},
   "outputs": [
    {
     "data": {
      "text/html": [
       "<div>\n",
       "<style scoped>\n",
       "    .dataframe tbody tr th:only-of-type {\n",
       "        vertical-align: middle;\n",
       "    }\n",
       "\n",
       "    .dataframe tbody tr th {\n",
       "        vertical-align: top;\n",
       "    }\n",
       "\n",
       "    .dataframe thead th {\n",
       "        text-align: right;\n",
       "    }\n",
       "</style>\n",
       "<table border=\"1\" class=\"dataframe\">\n",
       "  <thead>\n",
       "    <tr style=\"text-align: right;\">\n",
       "      <th></th>\n",
       "      <th>Name</th>\n",
       "      <th>Gender</th>\n",
       "      <th>Marks</th>\n",
       "      <th>Age</th>\n",
       "    </tr>\n",
       "  </thead>\n",
       "  <tbody>\n",
       "    <tr>\n",
       "      <th>0</th>\n",
       "      <td>MANSI</td>\n",
       "      <td>Female</td>\n",
       "      <td>91.0</td>\n",
       "      <td>21</td>\n",
       "    </tr>\n",
       "    <tr>\n",
       "      <th>1</th>\n",
       "      <td>Priyanka</td>\n",
       "      <td>Female</td>\n",
       "      <td>80.0</td>\n",
       "      <td>21</td>\n",
       "    </tr>\n",
       "    <tr>\n",
       "      <th>2</th>\n",
       "      <td>Raj</td>\n",
       "      <td>Male</td>\n",
       "      <td>78.0</td>\n",
       "      <td>22</td>\n",
       "    </tr>\n",
       "    <tr>\n",
       "      <th>3</th>\n",
       "      <td>Shrutika</td>\n",
       "      <td>Female</td>\n",
       "      <td>81.4</td>\n",
       "      <td>23</td>\n",
       "    </tr>\n",
       "    <tr>\n",
       "      <th>4</th>\n",
       "      <td>atharva</td>\n",
       "      <td>Male</td>\n",
       "      <td>76.0</td>\n",
       "      <td>24</td>\n",
       "    </tr>\n",
       "    <tr>\n",
       "      <th>5</th>\n",
       "      <td>Ananya</td>\n",
       "      <td>Female</td>\n",
       "      <td>82.0</td>\n",
       "      <td>25</td>\n",
       "    </tr>\n",
       "    <tr>\n",
       "      <th>6</th>\n",
       "      <td>Rohan</td>\n",
       "      <td>Male</td>\n",
       "      <td>81.4</td>\n",
       "      <td>26</td>\n",
       "    </tr>\n",
       "  </tbody>\n",
       "</table>\n",
       "</div>"
      ],
      "text/plain": [
       "       Name  Gender  Marks  Age\n",
       "0     MANSI  Female   91.0   21\n",
       "1  Priyanka  Female   80.0   21\n",
       "2       Raj    Male   78.0   22\n",
       "3  Shrutika  Female   81.4   23\n",
       "4   atharva    Male   76.0   24\n",
       "5    Ananya  Female   82.0   25\n",
       "6     Rohan    Male   81.4   26"
      ]
     },
     "execution_count": 6,
     "metadata": {},
     "output_type": "execute_result"
    }
   ],
   "source": [
    "c=avg=sum=0\n",
    "for ele in df['Marks']:\n",
    " if str(ele).isnumeric():\n",
    "  c+=1\n",
    "  sum+=ele\n",
    "if c>0:\n",
    " avg=sum/c\n",
    "df=df.replace(to_replace='Nan', value=avg)\n",
    "df"
   ]
  },
  {
   "cell_type": "code",
   "execution_count": 7,
   "id": "a1267c4c-40e1-4bcd-a596-681c3deb0ed2",
   "metadata": {},
   "outputs": [
    {
     "data": {
      "text/plain": [
       "<Axes: >"
      ]
     },
     "execution_count": 7,
     "metadata": {},
     "output_type": "execute_result"
    },
    {
     "data": {
      "image/png": "[encoded data removed]",
      "text/plain": [
       "<Figure size 640x480 with 1 Axes>"
      ]
     },
     "metadata": {},
     "output_type": "display_data"
    }
   ],
   "source": [
    "df.isna().sum().plot(kind=\"bar\")\n"
   ]
  },
  {
   "cell_type": "code",
   "execution_count": 8,
   "id": "27fcbeab-d436-4fb3-be95-21898b1fda58",
   "metadata": {},
   "outputs": [
    {
     "data": {
      "text/html": [
       "<div>\n",
       "<style scoped>\n",
       "    .dataframe tbody tr th:only-of-type {\n",
       "        vertical-align: middle;\n",
       "    }\n",
       "\n",
       "    .dataframe tbody tr th {\n",
       "        vertical-align: top;\n",
       "    }\n",
       "\n",
       "    .dataframe thead th {\n",
       "        text-align: right;\n",
       "    }\n",
       "</style>\n",
       "<table border=\"1\" class=\"dataframe\">\n",
       "  <thead>\n",
       "    <tr style=\"text-align: right;\">\n",
       "      <th></th>\n",
       "      <th>Name</th>\n",
       "      <th>Gender</th>\n",
       "      <th>Marks</th>\n",
       "      <th>Age</th>\n",
       "    </tr>\n",
       "  </thead>\n",
       "  <tbody>\n",
       "    <tr>\n",
       "      <th>0</th>\n",
       "      <td>MANSI</td>\n",
       "      <td>1</td>\n",
       "      <td>91.0</td>\n",
       "      <td>21</td>\n",
       "    </tr>\n",
       "    <tr>\n",
       "      <th>1</th>\n",
       "      <td>Priyanka</td>\n",
       "      <td>1</td>\n",
       "      <td>80.0</td>\n",
       "      <td>21</td>\n",
       "    </tr>\n",
       "    <tr>\n",
       "      <th>2</th>\n",
       "      <td>Raj</td>\n",
       "      <td>0</td>\n",
       "      <td>78.0</td>\n",
       "      <td>22</td>\n",
       "    </tr>\n",
       "    <tr>\n",
       "      <th>3</th>\n",
       "      <td>Shrutika</td>\n",
       "      <td>1</td>\n",
       "      <td>81.4</td>\n",
       "      <td>23</td>\n",
       "    </tr>\n",
       "    <tr>\n",
       "      <th>4</th>\n",
       "      <td>atharva</td>\n",
       "      <td>0</td>\n",
       "      <td>76.0</td>\n",
       "      <td>24</td>\n",
       "    </tr>\n",
       "    <tr>\n",
       "      <th>5</th>\n",
       "      <td>Ananya</td>\n",
       "      <td>1</td>\n",
       "      <td>82.0</td>\n",
       "      <td>25</td>\n",
       "    </tr>\n",
       "    <tr>\n",
       "      <th>6</th>\n",
       "      <td>Rohan</td>\n",
       "      <td>0</td>\n",
       "      <td>81.4</td>\n",
       "      <td>26</td>\n",
       "    </tr>\n",
       "  </tbody>\n",
       "</table>\n",
       "</div>"
      ],
      "text/plain": [
       "       Name  Gender  Marks  Age\n",
       "0     MANSI       1   91.0   21\n",
       "1  Priyanka       1   80.0   21\n",
       "2       Raj       0   78.0   22\n",
       "3  Shrutika       1   81.4   23\n",
       "4   atharva       0   76.0   24\n",
       "5    Ananya       1   82.0   25\n",
       "6     Rohan       0   81.4   26"
      ]
     },
     "execution_count": 8,
     "metadata": {},
     "output_type": "execute_result"
    }
   ],
   "source": [
    "df['Gender']=df['Gender'].map({'Male':0,'Female':1,}).astype(int)\n",
    "df"
   ]
  },
  {
   "cell_type": "code",
   "execution_count": 9,
   "id": "d1e75853-ee70-4429-89c0-4854fb3f55ec",
   "metadata": {},
   "outputs": [
    {
     "data": {
      "text/html": [
       "<div>\n",
       "<style scoped>\n",
       "    .dataframe tbody tr th:only-of-type {\n",
       "        vertical-align: middle;\n",
       "    }\n",
       "\n",
       "    .dataframe tbody tr th {\n",
       "        vertical-align: top;\n",
       "    }\n",
       "\n",
       "    .dataframe thead th {\n",
       "        text-align: right;\n",
       "    }\n",
       "</style>\n",
       "<table border=\"1\" class=\"dataframe\">\n",
       "  <thead>\n",
       "    <tr style=\"text-align: right;\">\n",
       "      <th></th>\n",
       "      <th>Name</th>\n",
       "      <th>Gender</th>\n",
       "      <th>Marks</th>\n",
       "      <th>Age</th>\n",
       "    </tr>\n",
       "  </thead>\n",
       "  <tbody>\n",
       "    <tr>\n",
       "      <th>0</th>\n",
       "      <td>MANSI</td>\n",
       "      <td>1</td>\n",
       "      <td>91.0</td>\n",
       "      <td>21</td>\n",
       "    </tr>\n",
       "    <tr>\n",
       "      <th>3</th>\n",
       "      <td>Shrutika</td>\n",
       "      <td>1</td>\n",
       "      <td>81.4</td>\n",
       "      <td>23</td>\n",
       "    </tr>\n",
       "    <tr>\n",
       "      <th>5</th>\n",
       "      <td>Ananya</td>\n",
       "      <td>1</td>\n",
       "      <td>82.0</td>\n",
       "      <td>25</td>\n",
       "    </tr>\n",
       "    <tr>\n",
       "      <th>6</th>\n",
       "      <td>Rohan</td>\n",
       "      <td>0</td>\n",
       "      <td>81.4</td>\n",
       "      <td>26</td>\n",
       "    </tr>\n",
       "  </tbody>\n",
       "</table>\n",
       "</div>"
      ],
      "text/plain": [
       "       Name  Gender  Marks  Age\n",
       "0     MANSI       1   91.0   21\n",
       "3  Shrutika       1   81.4   23\n",
       "5    Ananya       1   82.0   25\n",
       "6     Rohan       0   81.4   26"
      ]
     },
     "execution_count": 9,
     "metadata": {},
     "output_type": "execute_result"
    }
   ],
   "source": [
    "df=df[df['Marks']>80]\n",
    "df"
   ]
  },
  {
   "cell_type": "code",
   "execution_count": 10,
   "id": "b6072023-38a1-4c66-96b7-4feae630fe23",
   "metadata": {},
   "outputs": [
    {
     "data": {
      "text/html": [
       "<div>\n",
       "<style scoped>\n",
       "    .dataframe tbody tr th:only-of-type {\n",
       "        vertical-align: middle;\n",
       "    }\n",
       "\n",
       "    .dataframe tbody tr th {\n",
       "        vertical-align: top;\n",
       "    }\n",
       "\n",
       "    .dataframe thead th {\n",
       "        text-align: right;\n",
       "    }\n",
       "</style>\n",
       "<table border=\"1\" class=\"dataframe\">\n",
       "  <thead>\n",
       "    <tr style=\"text-align: right;\">\n",
       "      <th></th>\n",
       "      <th>Name</th>\n",
       "      <th>Gender</th>\n",
       "      <th>Marks</th>\n",
       "    </tr>\n",
       "  </thead>\n",
       "  <tbody>\n",
       "    <tr>\n",
       "      <th>0</th>\n",
       "      <td>MANSI</td>\n",
       "      <td>1</td>\n",
       "      <td>91.0</td>\n",
       "    </tr>\n",
       "    <tr>\n",
       "      <th>3</th>\n",
       "      <td>Shrutika</td>\n",
       "      <td>1</td>\n",
       "      <td>81.4</td>\n",
       "    </tr>\n",
       "    <tr>\n",
       "      <th>5</th>\n",
       "      <td>Ananya</td>\n",
       "      <td>1</td>\n",
       "      <td>82.0</td>\n",
       "    </tr>\n",
       "    <tr>\n",
       "      <th>6</th>\n",
       "      <td>Rohan</td>\n",
       "      <td>0</td>\n",
       "      <td>81.4</td>\n",
       "    </tr>\n",
       "  </tbody>\n",
       "</table>\n",
       "</div>"
      ],
      "text/plain": [
       "       Name  Gender  Marks\n",
       "0     MANSI       1   91.0\n",
       "3  Shrutika       1   81.4\n",
       "5    Ananya       1   82.0\n",
       "6     Rohan       0   81.4"
      ]
     },
     "execution_count": 10,
     "metadata": {},
     "output_type": "execute_result"
    }
   ],
   "source": [
    "df=df.drop(['Age'], axis=1)\n",
    "df"
   ]
  },
  {
   "cell_type": "code",
   "execution_count": 11,
   "id": "b6c4117d-063f-4faf-b7a3-b75db417a55e",
   "metadata": {},
   "outputs": [
    {
     "name": "stdout",
     "output_type": "stream",
     "text": [
      "       Name  Gender Marks   id\n",
      "0     MANSI  Female    91  120\n",
      "1  Priyanka  Female    80  121\n",
      "2       Raj    Male    78  122\n",
      "3  Shrutika  Female   Nan  123\n",
      "4   atharva    Male    76  124\n",
      "5    Ananya  Female    82  125\n",
      "6     Rohan    Male   Nan  126\n"
     ]
    }
   ],
   "source": [
    "data1 = {\n",
    " \"Name\": [\"MANSI\", \"Priyanka\", \"Raj\", \"Shrutika\", \"atharva\", \"Ananya\", \"Rohan\"],\n",
    " \"Gender\": [\"Female\", \"Female\", \"Male\", \"Female\", \"Male\", \"Female\", \"Male\"],\n",
    " \"Marks\": [91, 80, 78, 'Nan', 76, 82, 'Nan'],\n",
    " \"id\": [120,121,122,123,124,125,126]\n",
    "}\n",
    "df1 = pd.DataFrame(data1)\n",
    "print(df1)"
   ]
  },
  {
   "cell_type": "code",
   "execution_count": 12,
   "id": "933436ec-6897-41f6-80ce-e479d86b543e",
   "metadata": {},
   "outputs": [
    {
     "name": "stdout",
     "output_type": "stream",
     "text": [
      "       Name  Gender  Marks\n",
      "0     MANSI       1   91.0\n",
      "3  Shrutika       1   81.4\n",
      "5    Ananya       1   82.0\n",
      "6     Rohan       0   81.4\n"
     ]
    }
   ],
   "source": [
    "data2 = {\n",
    " \"Fee\":[1000, 100000, 50000, 2000, 500, 70000, 30000],\n",
    " \"id\": [120,121,122,123,124,125,126]\n",
    "}\n",
    "df2 = pd.DataFrame(data2)\n",
    "print(df)"
   ]
  },
  {
   "cell_type": "code",
   "execution_count": 13,
   "id": "94697b3d-48a9-47c1-9f29-b9a1fcfdfc6b",
   "metadata": {},
   "outputs": [
    {
     "data": {
      "text/html": [
       "<div>\n",
       "<style scoped>\n",
       "    .dataframe tbody tr th:only-of-type {\n",
       "        vertical-align: middle;\n",
       "    }\n",
       "\n",
       "    .dataframe tbody tr th {\n",
       "        vertical-align: top;\n",
       "    }\n",
       "\n",
       "    .dataframe thead th {\n",
       "        text-align: right;\n",
       "    }\n",
       "</style>\n",
       "<table border=\"1\" class=\"dataframe\">\n",
       "  <thead>\n",
       "    <tr style=\"text-align: right;\">\n",
       "      <th></th>\n",
       "      <th>Name</th>\n",
       "      <th>Gender</th>\n",
       "      <th>Marks</th>\n",
       "      <th>id</th>\n",
       "      <th>Fee</th>\n",
       "    </tr>\n",
       "  </thead>\n",
       "  <tbody>\n",
       "    <tr>\n",
       "      <th>0</th>\n",
       "      <td>MANSI</td>\n",
       "      <td>Female</td>\n",
       "      <td>91</td>\n",
       "      <td>120</td>\n",
       "      <td>1000</td>\n",
       "    </tr>\n",
       "    <tr>\n",
       "      <th>1</th>\n",
       "      <td>Priyanka</td>\n",
       "      <td>Female</td>\n",
       "      <td>80</td>\n",
       "      <td>121</td>\n",
       "      <td>100000</td>\n",
       "    </tr>\n",
       "    <tr>\n",
       "      <th>2</th>\n",
       "      <td>Raj</td>\n",
       "      <td>Male</td>\n",
       "      <td>78</td>\n",
       "      <td>122</td>\n",
       "      <td>50000</td>\n",
       "    </tr>\n",
       "    <tr>\n",
       "      <th>3</th>\n",
       "      <td>Shrutika</td>\n",
       "      <td>Female</td>\n",
       "      <td>Nan</td>\n",
       "      <td>123</td>\n",
       "      <td>2000</td>\n",
       "    </tr>\n",
       "    <tr>\n",
       "      <th>4</th>\n",
       "      <td>atharva</td>\n",
       "      <td>Male</td>\n",
       "      <td>76</td>\n",
       "      <td>124</td>\n",
       "      <td>500</td>\n",
       "    </tr>\n",
       "    <tr>\n",
       "      <th>5</th>\n",
       "      <td>Ananya</td>\n",
       "      <td>Female</td>\n",
       "      <td>82</td>\n",
       "      <td>125</td>\n",
       "      <td>70000</td>\n",
       "    </tr>\n",
       "    <tr>\n",
       "      <th>6</th>\n",
       "      <td>Rohan</td>\n",
       "      <td>Male</td>\n",
       "      <td>Nan</td>\n",
       "      <td>126</td>\n",
       "      <td>30000</td>\n",
       "    </tr>\n",
       "  </tbody>\n",
       "</table>\n",
       "</div>"
      ],
      "text/plain": [
       "       Name  Gender Marks   id     Fee\n",
       "0     MANSI  Female    91  120    1000\n",
       "1  Priyanka  Female    80  121  100000\n",
       "2       Raj    Male    78  122   50000\n",
       "3  Shrutika  Female   Nan  123    2000\n",
       "4   atharva    Male    76  124     500\n",
       "5    Ananya  Female    82  125   70000\n",
       "6     Rohan    Male   Nan  126   30000"
      ]
     },
     "execution_count": 13,
     "metadata": {},
     "output_type": "execute_result"
    }
   ],
   "source": [
    "df3 = pd.merge(df1, df2)\n",
    "df3"
   ]
  },
  {
   "cell_type": "code",
   "execution_count": 14,
   "id": "8618ce5b-1626-408d-ac65-5d2cc28f6723",
   "metadata": {},
   "outputs": [
    {
     "name": "stdout",
     "output_type": "stream",
     "text": [
      "       Name  Gender  Marks\n",
      "0     MANSI       1  100.0\n",
      "3  Shrutika       1   81.4\n",
      "5    Ananya       1   82.0\n",
      "6     Rohan       0   81.4\n"
     ]
    }
   ],
   "source": [
    "df.loc[0, 'Marks']= 100\n",
    "print(df)"
   ]
  },
  {
   "cell_type": "code",
   "execution_count": 15,
   "id": "159e63e2-4e78-43d6-82ec-109a7b464bea",
   "metadata": {},
   "outputs": [
    {
     "data": {
      "text/plain": [
       "<Axes: >"
      ]
     },
     "execution_count": 15,
     "metadata": {},
     "output_type": "execute_result"
    },
    {
     "data": {
      "image/png": "[encoded data removed]",
      "text/plain": [
       "<Figure size 640x480 with 1 Axes>"
      ]
     },
     "metadata": {},
     "output_type": "display_data"
    }
   ],
   "source": [
    "df.plot.box()\n"
   ]
  },
  {
   "cell_type": "markdown",
   "id": "048747a2-43e3-4c78-b0b4-ff32d3e36400",
   "metadata": {},
   "source": [
    "df.plot.hist()\n"
   ]
  },
  {
   "cell_type": "code",
   "execution_count": 16,
   "id": "3abe185c-b87c-40e7-a693-da7dd40c8ece",
   "metadata": {},
   "outputs": [
    {
     "data": {
      "text/plain": [
       "<Axes: ylabel='Frequency'>"
      ]
     },
     "execution_count": 16,
     "metadata": {},
     "output_type": "execute_result"
    },
    {
     "data": {
      "image/png": "[encoded data removed]",
      "text/plain": [
       "<Figure size 640x480 with 1 Axes>"
      ]
     },
     "metadata": {},
     "output_type": "display_data"
    }
   ],
   "source": [
    "df['Gender'].plot.hist()"
   ]
  },
  {
   "cell_type": "code",
   "execution_count": null,
   "id": "dc190dae-4750-4aab-bede-d2c19e3a1586",
   "metadata": {},
   "outputs": [],
   "source": []
  }
 ],
 "metadata": {
  "kernelspec": {
   "display_name": "Python 3 (ipykernel)",
   "language": "python",
   "name": "python3"
  },
  "language_info": {
   "codemirror_mode": {
    "name": "ipython",
    "version": 3
   },
   "file_extension": ".py",
   "mimetype": "text/x-python",
   "name": "python",
   "nbconvert_exporter": "python",
   "pygments_lexer": "ipython3",
   "version": "3.8.5"
  }
 },
 "nbformat": 4,
 "nbformat_minor": 5
}
